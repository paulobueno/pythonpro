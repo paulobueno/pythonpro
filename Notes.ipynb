{
 "cells": [
  {
   "cell_type": "markdown",
   "metadata": {
    "deletable": true,
    "editable": true
   },
   "source": [
    "# Notes from pythonbrids course\n",
    "## https://www.python.pro.br/"
   ]
  },
  {
   "cell_type": "markdown",
   "metadata": {
    "deletable": true,
    "editable": true
   },
   "source": [
    "### Python version\n",
    "using 3.6.5<br>\n",
    "We are going to use python3 and tkinter lib<br>\n",
    "As a default, unix based systems have already installed python<br>\n",
    "Important to check if the installed version is the most recently one<br>"
   ]
  },
  {
   "cell_type": "markdown",
   "metadata": {
    "deletable": true,
    "editable": true
   },
   "source": [
    "### Deffinitions\n",
    "Terminal is denominated **REPL**: Read, Evaluate, Print, Loop"
   ]
  },
  {
   "cell_type": "markdown",
   "metadata": {
    "deletable": true,
    "editable": true
   },
   "source": [
    "### Commands\n",
    "- Control + space → auto complete in pycharm ‘Python Console’\n",
    "- dir() → command used to evaluate what methods are applied to an object\n",
    "- id() → function to identify what ID an specific object is\n",
    "- (::-1) → returns the inverse of a list"
   ]
  },
  {
   "cell_type": "markdown",
   "metadata": {
    "deletable": true,
    "editable": true
   },
   "source": [
    "### Tuples"
   ]
  },
  {
   "cell_type": "markdown",
   "metadata": {
    "deletable": true,
    "editable": true
   },
   "source": [
    "Sequence of values that can't be changed"
   ]
  },
  {
   "cell_type": "code",
   "execution_count": 3,
   "metadata": {
    "collapsed": false,
    "deletable": true,
    "editable": true
   },
   "outputs": [
    {
     "name": "stdout",
     "output_type": "stream",
     "text": [
      "Rafael\n"
     ]
    }
   ],
   "source": [
    "Registro = ('Rafael', 26)\n",
    "nome, idade = Registro\n",
    "print(nome)"
   ]
  },
  {
   "cell_type": "markdown",
   "metadata": {
    "deletable": true,
    "editable": true
   },
   "source": [
    "Above, we have an example of packing and unpacking<br>\n",
    "We do can add two tuples, generating a new object. as a result, we will have an other id(), as we can see below<br>"
   ]
  },
  {
   "cell_type": "code",
   "execution_count": 5,
   "metadata": {
    "collapsed": false,
    "deletable": true,
    "editable": true
   },
   "outputs": [
    {
     "name": "stdout",
     "output_type": "stream",
     "text": [
      "4415135816 4415157640 4415354344\n"
     ]
    }
   ],
   "source": [
    "tup_1 = ('abc', 12)\n",
    "tup_2 = ('def', 11)\n",
    "tup_3 = tup_1 + tup_1\n",
    "print(id(tup_1), id(tup_2), id(tup_3))"
   ]
  },
  {
   "cell_type": "code",
   "execution_count": 8,
   "metadata": {
    "collapsed": false,
    "deletable": true,
    "editable": true
   },
   "outputs": [
    {
     "name": "stdout",
     "output_type": "stream",
     "text": [
      "[1, 2, 3, 4, 2, 3, 4, 5]\n",
      "4415851464 4416020616 4415709576\n"
     ]
    }
   ],
   "source": [
    "list_1 = [1,2,3,4]\n",
    "list_2 = [2,3,4,5]\n",
    "list_3 = list_1 + list_2\n",
    "print(list_3)\n",
    "print(id(list_1),id(list_2),id(list_3))"
   ]
  },
  {
   "cell_type": "markdown",
   "metadata": {
    "deletable": true,
    "editable": true
   },
   "source": [
    "## Classes\n",
    "\n",
    "According to pop8, classes must e named based on CammelCase format"
   ]
  },
  {
   "cell_type": "code",
   "execution_count": 13,
   "metadata": {
    "collapsed": false,
    "deletable": true,
    "editable": true
   },
   "outputs": [
    {
     "name": "stdout",
     "output_type": "stream",
     "text": [
      "<class 'type'>\n"
     ]
    }
   ],
   "source": [
    "class Pessoa:\n",
    "    pass\n",
    "\n",
    "print(type(Pessoa))"
   ]
  },
  {
   "cell_type": "markdown",
   "metadata": {
    "deletable": true,
    "editable": true
   },
   "source": [
    "The most important element in a class is the method.<br>\n",
    "Methods are functions inside classes, and like everything in python, is an object<br>\n",
    "To create a method, we have the following:<br>"
   ]
  },
  {
   "cell_type": "code",
   "execution_count": 18,
   "metadata": {
    "collapsed": false,
    "deletable": true,
    "editable": true
   },
   "outputs": [
    {
     "data": {
      "text/plain": [
       "function"
      ]
     },
     "execution_count": 18,
     "metadata": {},
     "output_type": "execute_result"
    }
   ],
   "source": [
    "class Pessoa:\n",
    "    def cumprimentar(self):\n",
    "        return 'Ola'\n",
    "type(Pessoa.cumprimentar)"
   ]
  },
  {
   "cell_type": "markdown",
   "metadata": {
    "deletable": true,
    "editable": true
   },
   "source": [
    "`A palavra ‘self’ e usada de forma usual ao se criar um metodo, apesar de que qualquer palavra possa ser utilizada e ela nao e um termo reservado do python\n",
    "Esse termo pode variar de liguagem para linguage, como por exemplo no Java, esse termo e trocado para o ‘this’\n",
    "\n",
    "Ao aplicar algumas modificacoes no codigo, temos o seguinte:\n",
    "class Pessoa:\n",
    "   def cumprimentar(self):\n",
    "       return f'Ola {id(self)}'\n",
    "\n",
    "if __name__ == '__main__':\n",
    "   p = Pessoa()\n",
    "   print(Pessoa.cumprimentar(p))\n",
    "   print(id(p))\n",
    "   print(p.cumprimentar())\n",
    "\n",
    "Retorno:\n",
    "/usr/bin/python3.6 /home/paulo/PycharmProjects/pythonbirds/OO/pessoa.py\n",
    "Ola 140667988409480\n",
    "140667988409480\n",
    "Ola 140667988409480\n",
    "\n",
    "Vemos que o ‘self’ e o mesmo que chamar o proprio objeto, no caso ‘p’\n",
    "O que acontece e que ao chamar p.cumprimentar(), o python implicitamente esta colocando ‘p’ como primeiro parametro do metodo (que funciona como uma funcao)\n",
    "Caso executemos a funcao p.cumprimentar(p), ela retornara um erro, pois ai estariamos colocando dois argumentos dentro de um metodo que so aceita um argumento, no caso o ‘self’\n",
    "\n",
    "Instancia\n",
    "Instancia de uma classe ‘e um objecto que se moldou de uma classe. Atributo de um objeto ou classe ‘e nomenclatura usada para denominar ‘qualidades’ dadas ao objeto\n",
    "\n",
    "Checar todos os atributos de instancia de um objeto:\n",
    "objecto.__dict__\n",
    "Retorna todos os parametros desse objeto\n",
    "\n",
    "‘E possivel colocar atributos dinamicos em um objeto, basta acessa-lo e colocar nome_objeto.novo_atributo\n",
    "\n",
    "Conseguimos tambem remover atributos, mesmo que tenham sido definidos no __init__`"
   ]
  },
  {
   "cell_type": "markdown",
   "metadata": {
    "deletable": true,
    "editable": true
   },
   "source": [
    "### Methods\n",
    "#### Decorators\n",
    "##### Static\n",
    "Like class' attribtes, we can define functions that will be used by all objects from a class, avoiding duplicity<br>\n",
    "Is used the following code:<br>"
   ]
  },
  {
   "cell_type": "markdown",
   "metadata": {
    "deletable": true,
    "editable": true
   },
   "source": [
    "**@staticmethod<br>**\n",
    "Unlike any method of instance from the class, static methods doesn't need the object to run <br>\n",
    "It is a function of the class<br>"
   ]
  },
  {
   "cell_type": "code",
   "execution_count": 1,
   "metadata": {
    "collapsed": true,
    "deletable": true,
    "editable": true
   },
   "outputs": [],
   "source": [
    "class Pessoa:\n",
    "    olhos = 2\n",
    "    def __init__(self, *filhos, nome=None, idade=35):\n",
    "        self.idade = idade\n",
    "        self.nome = nome\n",
    "        self.filhos = list(filhos)\n",
    "\n",
    "    def cumprimentar(self):\n",
    "        return f'Ola {id(self)}'\n",
    "\n",
    "    @staticmethod\n",
    "    def metodo_estatico():\n",
    "        return 42"
   ]
  },
  {
   "cell_type": "code",
   "execution_count": 3,
   "metadata": {
    "collapsed": false,
    "deletable": true,
    "editable": true
   },
   "outputs": [
    {
     "name": "stdout",
     "output_type": "stream",
     "text": [
      "42 42\n"
     ]
    }
   ],
   "source": [
    "if __name__ == '__main__':\n",
    "    paulo = Pessoa(nome='Paulo')\n",
    "    rafael = Pessoa(nome='Rafael')\n",
    "    sidney = Pessoa(paulo, rafael, nome='Sidney')\n",
    "    sidney.sobrenome = 'Barbosa'\n",
    "    del paulo.filhos\n",
    "    print(Pessoa.metodo_estatico(),sidney.metodo_estatico())"
   ]
  },
  {
   "cell_type": "markdown",
   "metadata": {
    "deletable": true,
    "editable": true
   },
   "source": [
    "**@classmethod<br>**\n",
    "Works like static methods, but is used to check classes attributes<br>"
   ]
  },
  {
   "cell_type": "code",
   "execution_count": 4,
   "metadata": {
    "collapsed": true,
    "deletable": true,
    "editable": true
   },
   "outputs": [],
   "source": [
    "class Pessoa:\n",
    "    olhos = 2\n",
    "    def __init__(self, *filhos, nome=None, idade=35):\n",
    "        self.idade = idade\n",
    "        self.nome = nome\n",
    "        self.filhos = list(filhos)\n",
    "\n",
    "    def cumprimentar(self):\n",
    "        return f'Ola {id(self)}'\n",
    "\n",
    "    @staticmethod\n",
    "    def metodo_estatico():\n",
    "        return 42\n",
    "    \n",
    "    @classmethod\n",
    "    def nome_e_atributos_de_classe(cls):\n",
    "        return f'{cls} - olhos {cls.olhos}'"
   ]
  },
  {
   "cell_type": "code",
   "execution_count": 11,
   "metadata": {
    "collapsed": false,
    "deletable": true,
    "editable": true
   },
   "outputs": [
    {
     "name": "stdout",
     "output_type": "stream",
     "text": [
      "<class '__main__.Pessoa'> - olhos 2 <class '__main__.Pessoa'> - olhos 2 3\n"
     ]
    }
   ],
   "source": [
    "if __name__ == '__main__':\n",
    "    paulo = Pessoa(nome='Paulo')\n",
    "    rafael = Pessoa(nome='Rafael')\n",
    "    sidney = Pessoa(paulo, rafael, nome='Sidney')\n",
    "    sidney.sobrenome = 'Barbosa'\n",
    "    sidney.olhos = 3\n",
    "    del paulo.filhos\n",
    "    print(Pessoa.nome_e_atributos_de_classe(),sidney.nome_e_atributos_de_classe(),sidney.olhos)"
   ]
  },
  {
   "cell_type": "markdown",
   "metadata": {
    "deletable": true,
    "editable": true
   },
   "source": [
    "Look that the **@classmethod** returns methods and values from the class, and not from the specific object, as we could see the return of object 'sidney'"
   ]
  },
  {
   "cell_type": "markdown",
   "metadata": {
    "deletable": true,
    "editable": true
   },
   "source": [
    "### Compositions\n",
    "We can do compositions in classes setting values to it or using other classes to add values to it<br>\n",
    "To better understand, lets take a look bellow<br>"
   ]
  },
  {
   "cell_type": "code",
   "execution_count": 1,
   "metadata": {
    "collapsed": true,
    "deletable": true,
    "editable": true
   },
   "outputs": [],
   "source": [
    "class Motor:\n",
    "\n",
    "    def __init__(self, velocidade=0):\n",
    "        self.velocidade = velocidade\n",
    "\n",
    "    def acelerar(self):\n",
    "        self.velocidade += 1\n",
    "\n",
    "    def frear(self):\n",
    "        self.velocidade -= 2\n",
    "        self.velocidade = max(0, self.velocidade)\n",
    "\n",
    "\n",
    "class Direcao:\n",
    "    direcoes_possiveis = ['Norte', 'Leste', 'Sul', 'Oeste']\n",
    "\n",
    "    def __init__(self, direcao_inicial='Norte'):\n",
    "        self.valor = direcao_inicial\n",
    "        self.direcao_numero = Direcao.direcoes_possiveis.index(direcao_inicial)\n",
    "\n",
    "    def girar_a_direita(self):\n",
    "        self.direcao_numero = (self.direcao_numero + 1) % 4\n",
    "        self.valor = Direcao.direcoes_possiveis[self.direcao_numero]\n",
    "\n",
    "    def girar_a_esquerda(self):\n",
    "        self.direcao_numero = (self.direcao_numero - 1) % 4\n",
    "        self.valor = Direcao.direcoes_possiveis[self.direcao_numero]\n",
    "\n",
    "\n",
    "class Carro:\n",
    "\n",
    "    def __init__(self, direcao, motor):\n",
    "        self.direcao = direcao\n",
    "        self.motor = motor\n",
    "\n",
    "    def calcular_velocidade(self):\n",
    "        return self.motor.velocidade\n",
    "\n",
    "    def acelerar(self):\n",
    "        return self.motor.acelerar()\n",
    "\n",
    "    def frear(self):\n",
    "        return self.motor.frear()\n",
    "\n",
    "    def calcular_direcao(self):\n",
    "        return self.direcao.valor\n",
    "\n",
    "    def girar_a_direita(self):\n",
    "        return self.direcao.girar_a_direita()\n",
    "\n",
    "    def girar_a_esquerda(self):\n",
    "        return self.direcao.girar_a_esquerda()"
   ]
  },
  {
   "cell_type": "markdown",
   "metadata": {
    "deletable": true,
    "editable": true
   },
   "source": [
    "How can we see above, compositions are made in class 'Carro'<br>\n",
    "We have here a class calling other class<br>"
   ]
  },
  {
   "cell_type": "markdown",
   "metadata": {
    "deletable": true,
    "editable": true
   },
   "source": [
    "### Doctest\n",
    "Below we have an example of docstring, where when you are using an IDE such as PyCharm, it can run to check and compare results to expected results, telling you where it fails or not."
   ]
  },
  {
   "cell_type": "markdown",
   "metadata": {
    "deletable": true,
    "editable": true
   },
   "source": [
    "\"\"\"\n",
    "Você deve criar uma classe carro que vai possuir\n",
    "dois atributos compostos por outras duas classes:\n",
    "\n",
    "Motor\n",
    "Direção\n",
    "O Motor terá a responsabilidade de controlar a velocidade.\n",
    "Ele oferece os seguintes atributos:\n",
    "\n",
    "Atributo de dado velocidade\n",
    "Método acelerar, que deverá incremetar a velocidade de uma unidade\n",
    "Método frear que deverá decrementar a velocidade em duas unidades\n",
    "A Direção terá a responsabilidade de controlar a direção. Ela oferece\n",
    "os seguintes atributos:\n",
    "\n",
    "Valor de diração com valores possíveis: Norte, Sul, Leste, Oeste.\n",
    "Método girar_a_direita\n",
    "Método girar_a_esquerda\n",
    "\n",
    "       N\n",
    "    O     L\n",
    "       S\n",
    "\n",
    "Exemplo:\n",
    "    >>> # Testando motor\n",
    "    >>> motor = Motor()\n",
    "    >>> motor.velocidade\n",
    "    0\n",
    "    >>> motor.acelerar()\n",
    "    >>> motor.velocidade\n",
    "    1\n",
    "    >>> motor.acelerar()\n",
    "    >>> motor.velocidade\n",
    "    2\n",
    "    >>> motor.acelerar()\n",
    "    >>> motor.velocidade\n",
    "    3\n",
    "    >>> motor.frear()\n",
    "    >>> motor.velocidade\n",
    "    1\n",
    "    >>> motor.frear()\n",
    "    >>> motor.velocidade\n",
    "    0\n",
    "    >>> # Testando Direcao\n",
    "    >>> direcao = Direcao()\n",
    "    >>> direcao.valor\n",
    "    'Norte'\n",
    "    >>> direcao.girar_a_direita()\n",
    "    >>> direcao.valor\n",
    "    'Leste'\n",
    "    >>> direcao.girar_a_direita()\n",
    "    >>> direcao.valor\n",
    "    'Sul'\n",
    "    >>> direcao.girar_a_direita()\n",
    "    >>> direcao.valor\n",
    "    'Oeste'\n",
    "    >>> direcao.girar_a_direita()\n",
    "    >>> direcao.valor\n",
    "    'Norte'\n",
    "    >>> direcao.girar_a_esquerda()\n",
    "    >>> direcao.valor\n",
    "    'Oeste'\n",
    "    >>> direcao.girar_a_esquerda()\n",
    "    >>> direcao.valor\n",
    "    'Sul'\n",
    "    >>> direcao.girar_a_esquerda()\n",
    "    >>> direcao.valor\n",
    "    'Leste'\n",
    "    >>> direcao.girar_a_esquerda()\n",
    "    >>> direcao.valor\n",
    "    'Norte'\n",
    "    >>> carro = Carro(direcao, motor)\n",
    "    >>> carro.calcular_velocidade()\n",
    "    0\n",
    "    >>> carro.acelerar()\n",
    "    >>> carro.calcular_velocidade()\n",
    "    1\n",
    "    >>> carro.acelerar()\n",
    "    >>> carro.calcular_velocidade()\n",
    "    2\n",
    "    >>> carro.frear()\n",
    "    >>> carro.calcular_velocidade()\n",
    "    0\n",
    "    >>> carro.calcular_direcao()\n",
    "    'Norte'\n",
    "    >>> carro.girar_a_direita()\n",
    "    >>> carro.calcular_direcao()\n",
    "    'Leste'\n",
    "    >>> carro.girar_a_esquerda()\n",
    "    >>> carro.calcular_direcao()\n",
    "    'Norte'\n",
    "    >>> carro.girar_a_esquerda()\n",
    "    >>> carro.calcular_direcao()\n",
    "    'Oeste'\n",
    "\"\"\""
   ]
  },
  {
   "cell_type": "markdown",
   "metadata": {
    "deletable": true,
    "editable": true
   },
   "source": [
    "Here in jupyter notebook we can't use docstrings as we can see it"
   ]
  },
  {
   "cell_type": "markdown",
   "metadata": {
    "deletable": true,
    "editable": true
   },
   "source": [
    "### inheritage\n",
    "Basicaly is a copy of all atributes and methods from a class, inserted to a new one"
   ]
  },
  {
   "cell_type": "code",
   "execution_count": 6,
   "metadata": {
    "collapsed": false,
    "deletable": true,
    "editable": true
   },
   "outputs": [
    {
     "name": "stdout",
     "output_type": "stream",
     "text": [
      "True\n",
      "False\n",
      "True\n",
      "True\n"
     ]
    }
   ],
   "source": [
    "class Pessoa:\n",
    "    olhos = 2\n",
    "    def __init__(self, *filhos, nome=None, idade=35):\n",
    "        self.idade = idade\n",
    "        self.nome = nome\n",
    "        self.filhos = list(filhos)\n",
    "\n",
    "    def cumprimentar(self):\n",
    "        return f'Ola {id(self)}'\n",
    "\n",
    "    @staticmethod\n",
    "    def metodo_estatico():\n",
    "        return 42\n",
    "    \n",
    "    @classmethod\n",
    "    def nome_e_atributos_de_classe(cls):\n",
    "        return f'{cls} - olhos {cls.olhos}'\n",
    "\n",
    "class Homem(Pessoa):\n",
    "    pass\n",
    "\n",
    "pessoa = Pessoa()\n",
    "homem = Homem()\n",
    "print(isinstance(pessoa, Pessoa))\n",
    "print(isinstance(pessoa, Homem))\n",
    "print(isinstance(homem, Pessoa))\n",
    "print(isinstance(homem, Homem))"
   ]
  },
  {
   "cell_type": "markdown",
   "metadata": {
    "deletable": true,
    "editable": true
   },
   "source": [
    "What we could see is that 'pessoa' is from a class 'Pessoa', BUT is not from class 'Homem'<br>\n",
    "Futhermore, when we do the same with object 'homem', both conditions returns True, due to object 'homem' is both class 'Homem' AND 'Pessoa', as the class 'Homem' inheritage from class 'Pessoa'"
   ]
  },
  {
   "cell_type": "markdown",
   "metadata": {
    "deletable": true,
    "editable": true
   },
   "source": [
    "### Unittest\n",
    "Instead of using doctests, there is a framework to build test modules, using **unittest** module"
   ]
  },
  {
   "cell_type": "code",
   "execution_count": 9,
   "metadata": {
    "collapsed": true,
    "deletable": true,
    "editable": true
   },
   "outputs": [],
   "source": [
    "from unittest import TestCase\n",
    "\n",
    "class CarroTestCase(TestCase):\n",
    "    def teste_velocidade_inicial(self):\n",
    "        motor = Motor()\n",
    "        self.assertEquals(0, motor.velocidade)"
   ]
  },
  {
   "cell_type": "markdown",
   "metadata": {
    "deletable": true,
    "editable": true
   },
   "source": [
    "From the example above, in pycharm we would have **True** to this tast, once the velocity starts in 0, as the class was build to<br>\n",
    "**_important:_** to these test work, methods and the file.py **must have 'test' as prefix**"
   ]
  },
  {
   "cell_type": "markdown",
   "metadata": {
    "deletable": true,
    "editable": true
   },
   "source": [
    "### Overwrite class attribute\n",
    "As everything in python is an object, and that object can inheritage from others, when we do that, we can modify any value we want, overwriting default values from father's class"
   ]
  },
  {
   "cell_type": "code",
   "execution_count": 10,
   "metadata": {
    "collapsed": false,
    "deletable": true,
    "editable": true
   },
   "outputs": [
    {
     "data": {
      "text/plain": [
       "3"
      ]
     },
     "execution_count": 10,
     "metadata": {},
     "output_type": "execute_result"
    }
   ],
   "source": [
    "class Pessoa:\n",
    "    olhos = 2\n",
    "    def __init__(self, *filhos, nome=None, idade=35):\n",
    "        self.idade = idade\n",
    "        self.nome = nome\n",
    "        self.filhos = list(filhos)\n",
    "\n",
    "    def cumprimentar(self):\n",
    "        return f'Ola {id(self)}'\n",
    "\n",
    "    @staticmethod\n",
    "    def metodo_estatico():\n",
    "        return 42\n",
    "    \n",
    "    @classmethod\n",
    "    def nome_e_atributos_de_classe(cls):\n",
    "        return f'{cls} - olhos {cls.olhos}'\n",
    "\n",
    "class Mutante(Pessoa):\n",
    "    olhos = 3\n",
    "    \n",
    "ET = Mutante()\n",
    "ET.olhos"
   ]
  },
  {
   "cell_type": "markdown",
   "metadata": {
    "deletable": true,
    "editable": true
   },
   "source": [
    "Here we can see what python does<br>\n",
    "First of all, it checks in the main class the value of the requested attribute, in that case was 'olhos'<br>\n",
    "**If it doesn't find the attribute, it goes to the father's class<br>**\n",
    "If even after going to the father's class to seek the atribute's value, it goes to class 'object' from python"
   ]
  },
  {
   "cell_type": "markdown",
   "metadata": {
    "deletable": true,
    "editable": true
   },
   "source": [
    "### Overwrite class method"
   ]
  },
  {
   "cell_type": "code",
   "execution_count": 25,
   "metadata": {
    "collapsed": false,
    "deletable": true,
    "editable": true
   },
   "outputs": [
    {
     "data": {
      "text/plain": [
       "'Ola, meu nome e Tuatara. Aperto de mao.'"
      ]
     },
     "execution_count": 25,
     "metadata": {},
     "output_type": "execute_result"
    }
   ],
   "source": [
    "class Pessoa:\n",
    "    olhos = 2\n",
    "    def __init__(self, *filhos, nome=None, idade=35):\n",
    "        self.idade = idade\n",
    "        self.nome = nome\n",
    "        self.filhos = list(filhos)\n",
    "\n",
    "    def cumprimentar(self):\n",
    "        return f'Ola, meu nome e {self.nome}.'\n",
    "\n",
    "    @staticmethod\n",
    "    def metodo_estatico():\n",
    "        return 42\n",
    "    \n",
    "    @classmethod\n",
    "    def nome_e_atributos_de_classe(cls):\n",
    "        return f'{cls} - olhos {cls.olhos}'\n",
    "\n",
    "class Mutante(Pessoa):\n",
    "    olhos = 3\n",
    "    def cumprimentar(self):\n",
    "        cumprimentar_classe_pai = super().cumprimentar()\n",
    "        return f'{cumprimentar_classe_pai} Aperto de mao.'\n",
    "    \n",
    "mutante_test = Mutante(nome='Tuatara')\n",
    "mutante_test.cumprimentar()"
   ]
  },
  {
   "cell_type": "markdown",
   "metadata": {
    "deletable": true,
    "editable": true
   },
   "source": [
    "As we can see, we do can overwrite methods from any class aswell<br>\n",
    "Using the method **_super()_**, it will inheritage the method from the father's class, bringing it's returns<br>\n",
    "After that, we overwrite the method with the same name and add the return from the father's return"
   ]
  },
  {
   "cell_type": "markdown",
   "metadata": {
    "collapsed": true,
    "deletable": true,
    "editable": true
   },
   "source": [
    "### List comprehension\n",
    "There are cases when you need to acumulate values in a list and use this values adhoc<br>\n",
    "We often see variables being created just to save this kind of data<br>"
   ]
  },
  {
   "cell_type": "code",
   "execution_count": 1,
   "metadata": {
    "collapsed": false,
    "deletable": true,
    "editable": true
   },
   "outputs": [
    {
     "name": "stdout",
     "output_type": "stream",
     "text": [
      "[0, 1, 2, 3, 4, 5, 6, 7, 8, 9]\n"
     ]
    }
   ],
   "source": [
    "lst = []\n",
    "for i in range(10):\n",
    "    lst.append(i)\n",
    "print(lst)"
   ]
  },
  {
   "cell_type": "markdown",
   "metadata": {
    "deletable": true,
    "editable": true
   },
   "source": [
    "As we can see, the variable 'lst' was created just to store values from range(10)<br>\n",
    "To avoid create this variables, python has the List Comprehension"
   ]
  },
  {
   "cell_type": "code",
   "execution_count": 2,
   "metadata": {
    "collapsed": false,
    "deletable": true,
    "editable": true
   },
   "outputs": [
    {
     "name": "stdout",
     "output_type": "stream",
     "text": [
      "[0, 1, 2, 3, 4, 5, 6, 7, 8, 9]\n"
     ]
    }
   ],
   "source": [
    "print([i for i in range(10)])"
   ]
  },
  {
   "cell_type": "markdown",
   "metadata": {
    "deletable": true,
    "editable": true
   },
   "source": [
    "### Protected methods\n",
    "Inside a class, we can have protected methods, that are not visible to outside users<br>\n",
    "Despite the fact that they are not visible, they can be called, but it is not recommended if is a production code, just for test.<br>\n",
    "To create a **protected method**, we just have to create a method starting the name with an underscore:"
   ]
  },
  {
   "cell_type": "code",
   "execution_count": 4,
   "metadata": {
    "collapsed": true,
    "deletable": true,
    "editable": true
   },
   "outputs": [],
   "source": [
    "class Pessoa:\n",
    "    olhos = 2\n",
    "    _protected_attribute = True\n",
    "    def __init__(self, *filhos, nome=None, idade=35):\n",
    "        self.idade = idade\n",
    "        self.nome = nome\n",
    "        self.filhos = list(filhos)\n",
    "\n",
    "    def _protected_method(self):\n",
    "        pass"
   ]
  },
  {
   "cell_type": "code",
   "execution_count": 9,
   "metadata": {
    "collapsed": false,
    "deletable": true,
    "editable": true
   },
   "outputs": [
    {
     "data": {
      "text/plain": [
       "False"
      ]
     },
     "execution_count": 9,
     "metadata": {},
     "output_type": "execute_result"
    }
   ],
   "source": [
    "all(i<9 for i in range(10))"
   ]
  },
  {
   "cell_type": "markdown",
   "metadata": {
    "collapsed": true,
    "deletable": true,
    "editable": true
   },
   "source": [
    "### Exceptions\n",
    "To high light exceptional behaviors, we can use the exceptions model<br>\n",
    "Calling the reserved term 'raise' we can call error messages and stop the code of processing<br>"
   ]
  },
  {
   "cell_type": "code",
   "execution_count": 8,
   "metadata": {
    "collapsed": false,
    "deletable": true,
    "editable": true
   },
   "outputs": [
    {
     "ename": "test_error",
     "evalue": "Test error",
     "output_type": "error",
     "traceback": [
      "\u001b[0;31m---------------------------------------------------------------------------\u001b[0m",
      "\u001b[0;31mtest_error\u001b[0m                                Traceback (most recent call last)",
      "\u001b[0;32m<ipython-input-8-db369f6533f4>\u001b[0m in \u001b[0;36m<module>\u001b[0;34m()\u001b[0m\n\u001b[1;32m      6\u001b[0m     \u001b[0mprint\u001b[0m\u001b[0;34m(\u001b[0m\u001b[0;34m'There is no error'\u001b[0m\u001b[0;34m)\u001b[0m\u001b[0;34m\u001b[0m\u001b[0m\n\u001b[1;32m      7\u001b[0m \u001b[0;34m\u001b[0m\u001b[0m\n\u001b[0;32m----> 8\u001b[0;31m \u001b[0mtest_function\u001b[0m\u001b[0;34m(\u001b[0m\u001b[0;34m)\u001b[0m\u001b[0;34m\u001b[0m\u001b[0m\n\u001b[0m",
      "\u001b[0;32m<ipython-input-8-db369f6533f4>\u001b[0m in \u001b[0;36mtest_function\u001b[0;34m()\u001b[0m\n\u001b[1;32m      3\u001b[0m \u001b[0;34m\u001b[0m\u001b[0m\n\u001b[1;32m      4\u001b[0m \u001b[0;32mdef\u001b[0m \u001b[0mtest_function\u001b[0m\u001b[0;34m(\u001b[0m\u001b[0;34m)\u001b[0m\u001b[0;34m:\u001b[0m\u001b[0;34m\u001b[0m\u001b[0m\n\u001b[0;32m----> 5\u001b[0;31m     \u001b[0;32mraise\u001b[0m \u001b[0mtest_error\u001b[0m\u001b[0;34m(\u001b[0m\u001b[0;34m'Test error'\u001b[0m\u001b[0;34m)\u001b[0m\u001b[0;34m\u001b[0m\u001b[0m\n\u001b[0m\u001b[1;32m      6\u001b[0m     \u001b[0mprint\u001b[0m\u001b[0;34m(\u001b[0m\u001b[0;34m'There is no error'\u001b[0m\u001b[0;34m)\u001b[0m\u001b[0;34m\u001b[0m\u001b[0m\n\u001b[1;32m      7\u001b[0m \u001b[0;34m\u001b[0m\u001b[0m\n",
      "\u001b[0;31mtest_error\u001b[0m: Test error"
     ]
    }
   ],
   "source": [
    "class test_error(Exception):\n",
    "    pass\n",
    "\n",
    "def test_function():\n",
    "    raise test_error('Test error')\n",
    "    print('There is no error')\n",
    "    \n",
    "test_function()"
   ]
  },
  {
   "cell_type": "markdown",
   "metadata": {
    "deletable": true,
    "editable": true
   },
   "source": [
    "To avoid your code be stopped, we can use the 'try' and 'except' methods"
   ]
  },
  {
   "cell_type": "code",
   "execution_count": 9,
   "metadata": {
    "collapsed": false,
    "deletable": true,
    "editable": true
   },
   "outputs": [
    {
     "name": "stdout",
     "output_type": "stream",
     "text": [
      "There was an error and it was fixed\n"
     ]
    }
   ],
   "source": [
    "try:\n",
    "    test_function()\n",
    "except test_error:\n",
    "    print('There was an error and it was fixed')"
   ]
  },
  {
   "cell_type": "markdown",
   "metadata": {
    "deletable": true,
    "editable": true
   },
   "source": [
    "Improving our code, if there is no exception to raise, we can call an other code:"
   ]
  },
  {
   "cell_type": "code",
   "execution_count": 10,
   "metadata": {
    "collapsed": false,
    "deletable": true,
    "editable": true
   },
   "outputs": [
    {
     "name": "stdout",
     "output_type": "stream",
     "text": [
      "There is NO error\n"
     ]
    }
   ],
   "source": [
    "try:\n",
    "    1 + 1\n",
    "except:\n",
    "    print('There is an ERROR')\n",
    "else:\n",
    "    print('There is NO error')"
   ]
  },
  {
   "cell_type": "markdown",
   "metadata": {
    "collapsed": true,
    "deletable": true,
    "editable": true
   },
   "source": [
    "# Pytools Module"
   ]
  },
  {
   "cell_type": "markdown",
   "metadata": {
    "collapsed": true,
    "deletable": true,
    "editable": true
   },
   "source": [
    "## Git and github\n",
    "### Login to push a code"
   ]
  },
  {
   "cell_type": "markdown",
   "metadata": {
    "deletable": true,
    "editable": true
   },
   "source": [
    "**There are two ways to push into a project.**<br>\n",
    "1. Input every time your account and password\n",
    "2. Use ssh keys, so you would have to input your account and password only once "
   ]
  },
  {
   "cell_type": "markdown",
   "metadata": {
    "deletable": true,
    "editable": true
   },
   "source": [
    "**Useing ssh keys to login in a github repository**"
   ]
  },
  {
   "cell_type": "markdown",
   "metadata": {
    "deletable": true,
    "editable": true
   },
   "source": [
    "In the terminal, write the following line of code:"
   ]
  },
  {
   "cell_type": "code",
   "execution_count": null,
   "metadata": {
    "collapsed": true,
    "deletable": true,
    "editable": true
   },
   "outputs": [],
   "source": [
    "ssh-keygen -t rsa -b 4096 -C \"your_email@example.com\""
   ]
  },
  {
   "cell_type": "markdown",
   "metadata": {
    "deletable": true,
    "editable": true
   },
   "source": [
    "It will generate a key (secure shell) and will give you the path where you can find it<br>\n",
    "You may have to enter a passphrase<br>\n",
    "After that, you will have to start ssh-agent in the background through the following code (for mac):"
   ]
  },
  {
   "cell_type": "code",
   "execution_count": null,
   "metadata": {
    "collapsed": true,
    "deletable": true,
    "editable": true
   },
   "outputs": [],
   "source": [
    "eval \"$(ssh-agent -s)\""
   ]
  },
  {
   "cell_type": "markdown",
   "metadata": {
    "deletable": true,
    "editable": true
   },
   "source": [
    "Add the SSH-key to your SSH-agent:"
   ]
  },
  {
   "cell_type": "code",
   "execution_count": null,
   "metadata": {
    "collapsed": true,
    "deletable": true,
    "editable": true
   },
   "outputs": [],
   "source": [
    "ssh-add -K ~/.ssh/id_rsa"
   ]
  },
  {
   "cell_type": "markdown",
   "metadata": {
    "deletable": true,
    "editable": true
   },
   "source": [
    "Copy your key and paste it in your github SSH settings"
   ]
  },
  {
   "cell_type": "code",
   "execution_count": null,
   "metadata": {
    "collapsed": true,
    "deletable": true,
    "editable": true
   },
   "outputs": [],
   "source": [
    "pbcopy < ~/.ssh/id_rsa.pub"
   ]
  },
  {
   "cell_type": "markdown",
   "metadata": {
    "deletable": true,
    "editable": true
   },
   "source": []
  }
 ],
 "metadata": {
  "kernelspec": {
   "display_name": "Python 3",
   "language": "python",
   "name": "python3"
  },
  "language_info": {
   "codemirror_mode": {
    "name": "ipython",
    "version": 3
   },
   "file_extension": ".py",
   "mimetype": "text/x-python",
   "name": "python",
   "nbconvert_exporter": "python",
   "pygments_lexer": "ipython3",
   "version": "3.6.1"
  }
 },
 "nbformat": 4,
 "nbformat_minor": 2
}
