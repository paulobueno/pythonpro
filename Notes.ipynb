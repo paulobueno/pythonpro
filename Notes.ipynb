{
 "cells": [
  {
   "cell_type": "markdown",
   "metadata": {},
   "source": [
    "# Notes from pythonbrids course\n",
    "## https://www.python.pro.br/"
   ]
  },
  {
   "cell_type": "markdown",
   "metadata": {},
   "source": [
    "### Python version\n",
    "using 3.6.5<br>\n",
    "We are going to use python3 and tkinter lib<br>\n",
    "As a default, unix based systems have already installed python<br>\n",
    "Important to check if the installed version is the most recently one<br>"
   ]
  },
  {
   "cell_type": "markdown",
   "metadata": {},
   "source": [
    "### Deffinitions\n",
    "Terminal is denominated **REPL**: Read, Evaluate, Print, Loop"
   ]
  },
  {
   "cell_type": "markdown",
   "metadata": {},
   "source": [
    "### Commands\n",
    "- Control + space → auto complete in pycharm ‘Python Console’\n",
    "- dir() → command used to evaluate what methods are applied to an object\n",
    "- id() → function to identify what ID an specific object is\n",
    "- (::-1) → returns the inverse of a list"
   ]
  },
  {
   "cell_type": "markdown",
   "metadata": {},
   "source": [
    "### Tuples"
   ]
  },
  {
   "cell_type": "markdown",
   "metadata": {},
   "source": [
    "Sequence of values that can't be changed"
   ]
  },
  {
   "cell_type": "code",
   "execution_count": 3,
   "metadata": {},
   "outputs": [
    {
     "name": "stdout",
     "output_type": "stream",
     "text": [
      "Rafael\n"
     ]
    }
   ],
   "source": [
    "Registro = ('Rafael', 26)\n",
    "nome, idade = Registro\n",
    "print(nome)"
   ]
  },
  {
   "cell_type": "markdown",
   "metadata": {},
   "source": [
    "Above, we have an example of packing and unpacking<br>\n",
    "We do can add two tuples, generating a new object. as a result, we will have an other id(), as we can see below<br>"
   ]
  },
  {
   "cell_type": "code",
   "execution_count": 5,
   "metadata": {},
   "outputs": [
    {
     "name": "stdout",
     "output_type": "stream",
     "text": [
      "4415135816 4415157640 4415354344\n"
     ]
    }
   ],
   "source": [
    "tup_1 = ('abc', 12)\n",
    "tup_2 = ('def', 11)\n",
    "tup_3 = tup_1 + tup_1\n",
    "print(id(tup_1), id(tup_2), id(tup_3))"
   ]
  },
  {
   "cell_type": "code",
   "execution_count": 8,
   "metadata": {},
   "outputs": [
    {
     "name": "stdout",
     "output_type": "stream",
     "text": [
      "[1, 2, 3, 4, 2, 3, 4, 5]\n",
      "4415851464 4416020616 4415709576\n"
     ]
    }
   ],
   "source": [
    "list_1 = [1,2,3,4]\n",
    "list_2 = [2,3,4,5]\n",
    "list_3 = list_1 + list_2\n",
    "print(list_3)\n",
    "print(id(list_1),id(list_2),id(list_3))"
   ]
  },
  {
   "cell_type": "markdown",
   "metadata": {},
   "source": [
    "## Classes\n",
    "\n",
    "According to pop8, classes must e named based on CammelCase format"
   ]
  },
  {
   "cell_type": "code",
   "execution_count": 13,
   "metadata": {},
   "outputs": [
    {
     "name": "stdout",
     "output_type": "stream",
     "text": [
      "<class 'type'>\n"
     ]
    }
   ],
   "source": [
    "class Pessoa:\n",
    "    pass\n",
    "\n",
    "print(type(Pessoa))"
   ]
  },
  {
   "cell_type": "markdown",
   "metadata": {},
   "source": [
    "The most important element in a class is the method.<br>\n",
    "Methods are functions inside classes, and like everything in python, is an object<br>\n",
    "To create a method, we have the following:<br>"
   ]
  },
  {
   "cell_type": "code",
   "execution_count": 18,
   "metadata": {},
   "outputs": [
    {
     "data": {
      "text/plain": [
       "function"
      ]
     },
     "execution_count": 18,
     "metadata": {},
     "output_type": "execute_result"
    }
   ],
   "source": [
    "class Pessoa:\n",
    "    def cumprimentar(self):\n",
    "        return 'Ola'\n",
    "type(Pessoa.cumprimentar)"
   ]
  },
  {
   "cell_type": "markdown",
   "metadata": {},
   "source": [
    "`A palavra ‘self’ e usada de forma usual ao se criar um metodo, apesar de que qualquer palavra possa ser utilizada e ela nao e um termo reservado do python\n",
    "Esse termo pode variar de liguagem para linguage, como por exemplo no Java, esse termo e trocado para o ‘this’\n",
    "\n",
    "Ao aplicar algumas modificacoes no codigo, temos o seguinte:\n",
    "class Pessoa:\n",
    "   def cumprimentar(self):\n",
    "       return f'Ola {id(self)}'\n",
    "\n",
    "if __name__ == '__main__':\n",
    "   p = Pessoa()\n",
    "   print(Pessoa.cumprimentar(p))\n",
    "   print(id(p))\n",
    "   print(p.cumprimentar())\n",
    "\n",
    "Retorno:\n",
    "/usr/bin/python3.6 /home/paulo/PycharmProjects/pythonbirds/OO/pessoa.py\n",
    "Ola 140667988409480\n",
    "140667988409480\n",
    "Ola 140667988409480\n",
    "\n",
    "Vemos que o ‘self’ e o mesmo que chamar o proprio objeto, no caso ‘p’\n",
    "O que acontece e que ao chamar p.cumprimentar(), o python implicitamente esta colocando ‘p’ como primeiro parametro do metodo (que funciona como uma funcao)\n",
    "Caso executemos a funcao p.cumprimentar(p), ela retornara um erro, pois ai estariamos colocando dois argumentos dentro de um metodo que so aceita um argumento, no caso o ‘self’\n",
    "\n",
    "Instancia\n",
    "Instancia de uma classe ‘e um objecto que se moldou de uma classe. Atributo de um objeto ou classe ‘e nomenclatura usada para denominar ‘qualidades’ dadas ao objeto\n",
    "\n",
    "Checar todos os atributos de instancia de um objeto:\n",
    "objecto.__dict__\n",
    "Retorna todos os parametros desse objeto\n",
    "\n",
    "‘E possivel colocar atributos dinamicos em um objeto, basta acessa-lo e colocar nome_objeto.novo_atributo\n",
    "\n",
    "Conseguimos tambem remover atributos, mesmo que tenham sido definidos no __init__`"
   ]
  },
  {
   "cell_type": "markdown",
   "metadata": {},
   "source": [
    "### Methods\n",
    "#### Decorators\n",
    "##### Static\n",
    "Like class' attribtes, we can define functions that will be used by all objects from a class, avoiding duplicity<br>\n",
    "Is used the following code:<br>"
   ]
  },
  {
   "cell_type": "markdown",
   "metadata": {},
   "source": [
    "**@staticmethod<br>**\n",
    "Unlike any method of instance from the class, static methods doesn't need the object to run <br>\n",
    "It is a function of the class<br>"
   ]
  },
  {
   "cell_type": "code",
   "execution_count": 1,
   "metadata": {
    "collapsed": true
   },
   "outputs": [],
   "source": [
    "class Pessoa:\n",
    "    olhos = 2\n",
    "    def __init__(self, *filhos, nome=None, idade=35):\n",
    "        self.idade = idade\n",
    "        self.nome = nome\n",
    "        self.filhos = list(filhos)\n",
    "\n",
    "    def cumprimentar(self):\n",
    "        return f'Ola {id(self)}'\n",
    "\n",
    "    @staticmethod\n",
    "    def metodo_estatico():\n",
    "        return 42"
   ]
  },
  {
   "cell_type": "code",
   "execution_count": 3,
   "metadata": {},
   "outputs": [
    {
     "name": "stdout",
     "output_type": "stream",
     "text": [
      "42 42\n"
     ]
    }
   ],
   "source": [
    "if __name__ == '__main__':\n",
    "    paulo = Pessoa(nome='Paulo')\n",
    "    rafael = Pessoa(nome='Rafael')\n",
    "    sidney = Pessoa(paulo, rafael, nome='Sidney')\n",
    "    sidney.sobrenome = 'Barbosa'\n",
    "    del paulo.filhos\n",
    "    print(Pessoa.metodo_estatico(),sidney.metodo_estatico())"
   ]
  },
  {
   "cell_type": "markdown",
   "metadata": {},
   "source": [
    "**@classmethod<br>**\n",
    "Works like static methods, but is used to check classes attributes<br>"
   ]
  },
  {
   "cell_type": "code",
   "execution_count": 4,
   "metadata": {
    "collapsed": true
   },
   "outputs": [],
   "source": [
    "class Pessoa:\n",
    "    olhos = 2\n",
    "    def __init__(self, *filhos, nome=None, idade=35):\n",
    "        self.idade = idade\n",
    "        self.nome = nome\n",
    "        self.filhos = list(filhos)\n",
    "\n",
    "    def cumprimentar(self):\n",
    "        return f'Ola {id(self)}'\n",
    "\n",
    "    @staticmethod\n",
    "    def metodo_estatico():\n",
    "        return 42\n",
    "    \n",
    "    @classmethod\n",
    "    def nome_e_atributos_de_classe(cls):\n",
    "        return f'{cls} - olhos {cls.olhos}'"
   ]
  },
  {
   "cell_type": "code",
   "execution_count": 11,
   "metadata": {},
   "outputs": [
    {
     "name": "stdout",
     "output_type": "stream",
     "text": [
      "<class '__main__.Pessoa'> - olhos 2 <class '__main__.Pessoa'> - olhos 2 3\n"
     ]
    }
   ],
   "source": [
    "if __name__ == '__main__':\n",
    "    paulo = Pessoa(nome='Paulo')\n",
    "    rafael = Pessoa(nome='Rafael')\n",
    "    sidney = Pessoa(paulo, rafael, nome='Sidney')\n",
    "    sidney.sobrenome = 'Barbosa'\n",
    "    sidney.olhos = 3\n",
    "    del paulo.filhos\n",
    "    print(Pessoa.nome_e_atributos_de_classe(),sidney.nome_e_atributos_de_classe(),sidney.olhos)"
   ]
  },
  {
   "cell_type": "markdown",
   "metadata": {},
   "source": [
    "Look that the **@classmethod** returns methods and values from the class, and not from the specific object, as we could see the return of object 'sidney'"
   ]
  },
  {
   "cell_type": "markdown",
   "metadata": {},
   "source": [
    "### Compositions\n",
    "We can do compositions in classes setting values to it or using other classes to add values to it<br>\n",
    "To better understand, lets take a look bellow<br>"
   ]
  },
  {
   "cell_type": "code",
   "execution_count": 1,
   "metadata": {
    "collapsed": true
   },
   "outputs": [],
   "source": [
    "class Motor:\n",
    "\n",
    "    def __init__(self, velocidade=0):\n",
    "        self.velocidade = velocidade\n",
    "\n",
    "    def acelerar(self):\n",
    "        self.velocidade += 1\n",
    "\n",
    "    def frear(self):\n",
    "        self.velocidade -= 2\n",
    "        self.velocidade = max(0, self.velocidade)\n",
    "\n",
    "\n",
    "class Direcao:\n",
    "    direcoes_possiveis = ['Norte', 'Leste', 'Sul', 'Oeste']\n",
    "\n",
    "    def __init__(self, direcao_inicial='Norte'):\n",
    "        self.valor = direcao_inicial\n",
    "        self.direcao_numero = Direcao.direcoes_possiveis.index(direcao_inicial)\n",
    "\n",
    "    def girar_a_direita(self):\n",
    "        self.direcao_numero = (self.direcao_numero + 1) % 4\n",
    "        self.valor = Direcao.direcoes_possiveis[self.direcao_numero]\n",
    "\n",
    "    def girar_a_esquerda(self):\n",
    "        self.direcao_numero = (self.direcao_numero - 1) % 4\n",
    "        self.valor = Direcao.direcoes_possiveis[self.direcao_numero]\n",
    "\n",
    "\n",
    "class Carro:\n",
    "\n",
    "    def __init__(self, direcao, motor):\n",
    "        self.direcao = direcao\n",
    "        self.motor = motor\n",
    "\n",
    "    def calcular_velocidade(self):\n",
    "        return self.motor.velocidade\n",
    "\n",
    "    def acelerar(self):\n",
    "        return self.motor.acelerar()\n",
    "\n",
    "    def frear(self):\n",
    "        return self.motor.frear()\n",
    "\n",
    "    def calcular_direcao(self):\n",
    "        return self.direcao.valor\n",
    "\n",
    "    def girar_a_direita(self):\n",
    "        return self.direcao.girar_a_direita()\n",
    "\n",
    "    def girar_a_esquerda(self):\n",
    "        return self.direcao.girar_a_esquerda()"
   ]
  },
  {
   "cell_type": "markdown",
   "metadata": {},
   "source": [
    "How can we see above, compositions are made in class 'Carro'<br>\n",
    "We have here a class calling other class<br>"
   ]
  },
  {
   "cell_type": "markdown",
   "metadata": {},
   "source": [
    "### Doctest\n",
    "Below we have an example of docstring, where when you are using an IDE such as PyCharm, it can run to check and compare results to expected results, telling you where it fails or not."
   ]
  },
  {
   "cell_type": "markdown",
   "metadata": {},
   "source": [
    "\"\"\"\n",
    "Você deve criar uma classe carro que vai possuir\n",
    "dois atributos compostos por outras duas classes:\n",
    "\n",
    "Motor\n",
    "Direção\n",
    "O Motor terá a responsabilidade de controlar a velocidade.\n",
    "Ele oferece os seguintes atributos:\n",
    "\n",
    "Atributo de dado velocidade\n",
    "Método acelerar, que deverá incremetar a velocidade de uma unidade\n",
    "Método frear que deverá decrementar a velocidade em duas unidades\n",
    "A Direção terá a responsabilidade de controlar a direção. Ela oferece\n",
    "os seguintes atributos:\n",
    "\n",
    "Valor de diração com valores possíveis: Norte, Sul, Leste, Oeste.\n",
    "Método girar_a_direita\n",
    "Método girar_a_esquerda\n",
    "\n",
    "       N\n",
    "    O     L\n",
    "       S\n",
    "\n",
    "Exemplo:\n",
    "    >>> # Testando motor\n",
    "    >>> motor = Motor()\n",
    "    >>> motor.velocidade\n",
    "    0\n",
    "    >>> motor.acelerar()\n",
    "    >>> motor.velocidade\n",
    "    1\n",
    "    >>> motor.acelerar()\n",
    "    >>> motor.velocidade\n",
    "    2\n",
    "    >>> motor.acelerar()\n",
    "    >>> motor.velocidade\n",
    "    3\n",
    "    >>> motor.frear()\n",
    "    >>> motor.velocidade\n",
    "    1\n",
    "    >>> motor.frear()\n",
    "    >>> motor.velocidade\n",
    "    0\n",
    "    >>> # Testando Direcao\n",
    "    >>> direcao = Direcao()\n",
    "    >>> direcao.valor\n",
    "    'Norte'\n",
    "    >>> direcao.girar_a_direita()\n",
    "    >>> direcao.valor\n",
    "    'Leste'\n",
    "    >>> direcao.girar_a_direita()\n",
    "    >>> direcao.valor\n",
    "    'Sul'\n",
    "    >>> direcao.girar_a_direita()\n",
    "    >>> direcao.valor\n",
    "    'Oeste'\n",
    "    >>> direcao.girar_a_direita()\n",
    "    >>> direcao.valor\n",
    "    'Norte'\n",
    "    >>> direcao.girar_a_esquerda()\n",
    "    >>> direcao.valor\n",
    "    'Oeste'\n",
    "    >>> direcao.girar_a_esquerda()\n",
    "    >>> direcao.valor\n",
    "    'Sul'\n",
    "    >>> direcao.girar_a_esquerda()\n",
    "    >>> direcao.valor\n",
    "    'Leste'\n",
    "    >>> direcao.girar_a_esquerda()\n",
    "    >>> direcao.valor\n",
    "    'Norte'\n",
    "    >>> carro = Carro(direcao, motor)\n",
    "    >>> carro.calcular_velocidade()\n",
    "    0\n",
    "    >>> carro.acelerar()\n",
    "    >>> carro.calcular_velocidade()\n",
    "    1\n",
    "    >>> carro.acelerar()\n",
    "    >>> carro.calcular_velocidade()\n",
    "    2\n",
    "    >>> carro.frear()\n",
    "    >>> carro.calcular_velocidade()\n",
    "    0\n",
    "    >>> carro.calcular_direcao()\n",
    "    'Norte'\n",
    "    >>> carro.girar_a_direita()\n",
    "    >>> carro.calcular_direcao()\n",
    "    'Leste'\n",
    "    >>> carro.girar_a_esquerda()\n",
    "    >>> carro.calcular_direcao()\n",
    "    'Norte'\n",
    "    >>> carro.girar_a_esquerda()\n",
    "    >>> carro.calcular_direcao()\n",
    "    'Oeste'\n",
    "\"\"\""
   ]
  },
  {
   "cell_type": "markdown",
   "metadata": {},
   "source": [
    "Here in jupyter notebook we can't use docstrings as we can see it"
   ]
  },
  {
   "cell_type": "markdown",
   "metadata": {},
   "source": [
    "### inheritage\n",
    "Basicaly is a copy of all atributes and methods from a class, inserted to a new one"
   ]
  },
  {
   "cell_type": "code",
   "execution_count": 6,
   "metadata": {},
   "outputs": [
    {
     "name": "stdout",
     "output_type": "stream",
     "text": [
      "True\n",
      "False\n",
      "True\n",
      "True\n"
     ]
    }
   ],
   "source": [
    "class Pessoa:\n",
    "    olhos = 2\n",
    "    def __init__(self, *filhos, nome=None, idade=35):\n",
    "        self.idade = idade\n",
    "        self.nome = nome\n",
    "        self.filhos = list(filhos)\n",
    "\n",
    "    def cumprimentar(self):\n",
    "        return f'Ola {id(self)}'\n",
    "\n",
    "    @staticmethod\n",
    "    def metodo_estatico():\n",
    "        return 42\n",
    "    \n",
    "    @classmethod\n",
    "    def nome_e_atributos_de_classe(cls):\n",
    "        return f'{cls} - olhos {cls.olhos}'\n",
    "\n",
    "class Homem(Pessoa):\n",
    "    pass\n",
    "\n",
    "pessoa = Pessoa()\n",
    "homem = Homem()\n",
    "print(isinstance(pessoa, Pessoa))\n",
    "print(isinstance(pessoa, Homem))\n",
    "print(isinstance(homem, Pessoa))\n",
    "print(isinstance(homem, Homem))"
   ]
  },
  {
   "cell_type": "markdown",
   "metadata": {},
   "source": [
    "What we could see is that 'pessoa' is from a class 'Pessoa', BUT is not from class 'Homem'<br>\n",
    "Futhermore, when we do the same with object 'homem', both conditions returns True, due to object 'homem' is both class 'Homem' AND 'Pessoa', as the class 'Homem' inheritage from class 'Pessoa'"
   ]
  },
  {
   "cell_type": "markdown",
   "metadata": {},
   "source": [
    "### Unittest\n",
    "Instead of using doctests, there is a framework to build test modules, using **unittest** module"
   ]
  },
  {
   "cell_type": "code",
   "execution_count": 9,
   "metadata": {
    "collapsed": true
   },
   "outputs": [],
   "source": [
    "from unittest import TestCase\n",
    "\n",
    "class CarroTestCase(TestCase):\n",
    "    def teste_velocidade_inicial(self):\n",
    "        motor = Motor()\n",
    "        self.assertEquals(0, motor.velocidade)"
   ]
  },
  {
   "cell_type": "markdown",
   "metadata": {},
   "source": [
    "From the example above, in pycharm we would have **True** to this tast, once the velocity starts in 0, as the class was build to<br>\n",
    "**_important:_** to these test work, methods and the file.py **must have 'test' as prefix**"
   ]
  },
  {
   "cell_type": "markdown",
   "metadata": {},
   "source": [
    "### Overwrite class attribute\n",
    "As everything in python is an object, and that object can inheritage from others, when we do that, we can modify any value we want, overwriting default values from father's class"
   ]
  },
  {
   "cell_type": "code",
   "execution_count": 10,
   "metadata": {},
   "outputs": [
    {
     "data": {
      "text/plain": [
       "3"
      ]
     },
     "execution_count": 10,
     "metadata": {},
     "output_type": "execute_result"
    }
   ],
   "source": [
    "class Pessoa:\n",
    "    olhos = 2\n",
    "    def __init__(self, *filhos, nome=None, idade=35):\n",
    "        self.idade = idade\n",
    "        self.nome = nome\n",
    "        self.filhos = list(filhos)\n",
    "\n",
    "    def cumprimentar(self):\n",
    "        return f'Ola {id(self)}'\n",
    "\n",
    "    @staticmethod\n",
    "    def metodo_estatico():\n",
    "        return 42\n",
    "    \n",
    "    @classmethod\n",
    "    def nome_e_atributos_de_classe(cls):\n",
    "        return f'{cls} - olhos {cls.olhos}'\n",
    "\n",
    "class Mutante(Pessoa):\n",
    "    olhos = 3\n",
    "    \n",
    "ET = Mutante()\n",
    "ET.olhos"
   ]
  },
  {
   "cell_type": "markdown",
   "metadata": {},
   "source": [
    "Here we can see what python does<br>\n",
    "First of all, it checks in the main class the value of the requested attribute, in that case was 'olhos'<br>\n",
    "**If it doesn't find the attribute, it goes to the father's class<br>**\n",
    "If even after going to the father's class to seek the atribute's value, it goes to class 'object' from python"
   ]
  },
  {
   "cell_type": "markdown",
   "metadata": {},
   "source": [
    "### Overwrite class method"
   ]
  },
  {
   "cell_type": "code",
   "execution_count": 25,
   "metadata": {},
   "outputs": [
    {
     "data": {
      "text/plain": [
       "'Ola, meu nome e Tuatara. Aperto de mao.'"
      ]
     },
     "execution_count": 25,
     "metadata": {},
     "output_type": "execute_result"
    }
   ],
   "source": [
    "class Pessoa:\n",
    "    olhos = 2\n",
    "    def __init__(self, *filhos, nome=None, idade=35):\n",
    "        self.idade = idade\n",
    "        self.nome = nome\n",
    "        self.filhos = list(filhos)\n",
    "\n",
    "    def cumprimentar(self):\n",
    "        return f'Ola, meu nome e {self.nome}.'\n",
    "\n",
    "    @staticmethod\n",
    "    def metodo_estatico():\n",
    "        return 42\n",
    "    \n",
    "    @classmethod\n",
    "    def nome_e_atributos_de_classe(cls):\n",
    "        return f'{cls} - olhos {cls.olhos}'\n",
    "\n",
    "class Mutante(Pessoa):\n",
    "    olhos = 3\n",
    "    def cumprimentar(self):\n",
    "        cumprimentar_classe_pai = super().cumprimentar()\n",
    "        return f'{cumprimentar_classe_pai} Aperto de mao.'\n",
    "    \n",
    "mutante_test = Mutante(nome='Tuatara')\n",
    "mutante_test.cumprimentar()"
   ]
  },
  {
   "cell_type": "markdown",
   "metadata": {},
   "source": [
    "As we can see, we do can overwrite methods from any class aswell<br>\n",
    "Using the method **_super()_**, it will inheritage the method from the father's class, bringing it's returns<br>\n",
    "After that, we overwrite the method with the same name and add the return from the father's return"
   ]
  },
  {
   "cell_type": "markdown",
   "metadata": {
    "collapsed": true
   },
   "source": [
    "### List comprehension\n",
    "There are cases when you need to acumulate values in a list and use this values adhoc<br>\n",
    "We often see variables being created just to save this kind of data<br>"
   ]
  },
  {
   "cell_type": "code",
   "execution_count": 1,
   "metadata": {},
   "outputs": [
    {
     "name": "stdout",
     "output_type": "stream",
     "text": [
      "[0, 1, 2, 3, 4, 5, 6, 7, 8, 9]\n"
     ]
    }
   ],
   "source": [
    "lst = []\n",
    "for i in range(10):\n",
    "    lst.append(i)\n",
    "print(lst)"
   ]
  },
  {
   "cell_type": "markdown",
   "metadata": {},
   "source": [
    "As we can see, the variable 'lst' was created just to store values from range(10)<br>\n",
    "To avoid create this variables, python has the List Comprehension"
   ]
  },
  {
   "cell_type": "code",
   "execution_count": 2,
   "metadata": {},
   "outputs": [
    {
     "name": "stdout",
     "output_type": "stream",
     "text": [
      "[0, 1, 2, 3, 4, 5, 6, 7, 8, 9]\n"
     ]
    }
   ],
   "source": [
    "print([i for i in range(10)])"
   ]
  },
  {
   "cell_type": "markdown",
   "metadata": {},
   "source": [
    "### Protected methods\n",
    "Inside a class, we can have protected methods, that are not visible to outside users<br>\n",
    "Despite the fact that they are not visible, they can be called, but it is not recommended if is a production code, just for test.<br>\n",
    "To create a **protected method**, we just have to create a method starting the name with an underscore:"
   ]
  },
  {
   "cell_type": "code",
   "execution_count": 4,
   "metadata": {
    "collapsed": true
   },
   "outputs": [],
   "source": [
    "class Pessoa:\n",
    "    olhos = 2\n",
    "    _protected_attribute = True\n",
    "    def __init__(self, *filhos, nome=None, idade=35):\n",
    "        self.idade = idade\n",
    "        self.nome = nome\n",
    "        self.filhos = list(filhos)\n",
    "\n",
    "    def _protected_method(self):\n",
    "        pass"
   ]
  },
  {
   "cell_type": "code",
   "execution_count": 9,
   "metadata": {},
   "outputs": [
    {
     "data": {
      "text/plain": [
       "False"
      ]
     },
     "execution_count": 9,
     "metadata": {},
     "output_type": "execute_result"
    }
   ],
   "source": [
    "all(i<9 for i in range(10))"
   ]
  },
  {
   "cell_type": "markdown",
   "metadata": {
    "collapsed": true
   },
   "source": [
    "### Exceptions\n",
    "To high light exceptional behaviors, we can use the exceptions model<br>\n",
    "Calling the reserved term 'raise' we can call error messages and stop the code of processing<br>"
   ]
  },
  {
   "cell_type": "code",
   "execution_count": 8,
   "metadata": {},
   "outputs": [
    {
     "ename": "test_error",
     "evalue": "Test error",
     "output_type": "error",
     "traceback": [
      "\u001b[0;31m---------------------------------------------------------------------------\u001b[0m",
      "\u001b[0;31mtest_error\u001b[0m                                Traceback (most recent call last)",
      "\u001b[0;32m<ipython-input-8-db369f6533f4>\u001b[0m in \u001b[0;36m<module>\u001b[0;34m()\u001b[0m\n\u001b[1;32m      6\u001b[0m     \u001b[0mprint\u001b[0m\u001b[0;34m(\u001b[0m\u001b[0;34m'There is no error'\u001b[0m\u001b[0;34m)\u001b[0m\u001b[0;34m\u001b[0m\u001b[0m\n\u001b[1;32m      7\u001b[0m \u001b[0;34m\u001b[0m\u001b[0m\n\u001b[0;32m----> 8\u001b[0;31m \u001b[0mtest_function\u001b[0m\u001b[0;34m(\u001b[0m\u001b[0;34m)\u001b[0m\u001b[0;34m\u001b[0m\u001b[0m\n\u001b[0m",
      "\u001b[0;32m<ipython-input-8-db369f6533f4>\u001b[0m in \u001b[0;36mtest_function\u001b[0;34m()\u001b[0m\n\u001b[1;32m      3\u001b[0m \u001b[0;34m\u001b[0m\u001b[0m\n\u001b[1;32m      4\u001b[0m \u001b[0;32mdef\u001b[0m \u001b[0mtest_function\u001b[0m\u001b[0;34m(\u001b[0m\u001b[0;34m)\u001b[0m\u001b[0;34m:\u001b[0m\u001b[0;34m\u001b[0m\u001b[0m\n\u001b[0;32m----> 5\u001b[0;31m     \u001b[0;32mraise\u001b[0m \u001b[0mtest_error\u001b[0m\u001b[0;34m(\u001b[0m\u001b[0;34m'Test error'\u001b[0m\u001b[0;34m)\u001b[0m\u001b[0;34m\u001b[0m\u001b[0m\n\u001b[0m\u001b[1;32m      6\u001b[0m     \u001b[0mprint\u001b[0m\u001b[0;34m(\u001b[0m\u001b[0;34m'There is no error'\u001b[0m\u001b[0;34m)\u001b[0m\u001b[0;34m\u001b[0m\u001b[0m\n\u001b[1;32m      7\u001b[0m \u001b[0;34m\u001b[0m\u001b[0m\n",
      "\u001b[0;31mtest_error\u001b[0m: Test error"
     ]
    }
   ],
   "source": [
    "class test_error(Exception):\n",
    "    pass\n",
    "\n",
    "def test_function():\n",
    "    raise test_error('Test error')\n",
    "    print('There is no error')\n",
    "    \n",
    "test_function()"
   ]
  },
  {
   "cell_type": "markdown",
   "metadata": {},
   "source": [
    "To avoid your code be stopped, we can use the 'try' and 'except' methods"
   ]
  },
  {
   "cell_type": "code",
   "execution_count": 9,
   "metadata": {},
   "outputs": [
    {
     "name": "stdout",
     "output_type": "stream",
     "text": [
      "There was an error and it was fixed\n"
     ]
    }
   ],
   "source": [
    "try:\n",
    "    test_function()\n",
    "except test_error:\n",
    "    print('There was an error and it was fixed')"
   ]
  },
  {
   "cell_type": "markdown",
   "metadata": {},
   "source": [
    "Improving our code, if there is no exception to raise, we can call an other code:"
   ]
  },
  {
   "cell_type": "code",
   "execution_count": 10,
   "metadata": {},
   "outputs": [
    {
     "name": "stdout",
     "output_type": "stream",
     "text": [
      "There is NO error\n"
     ]
    }
   ],
   "source": [
    "try:\n",
    "    1 + 1\n",
    "except:\n",
    "    print('There is an ERROR')\n",
    "else:\n",
    "    print('There is NO error')"
   ]
  },
  {
   "cell_type": "markdown",
   "metadata": {
    "collapsed": true
   },
   "source": [
    "# Pytools Module"
   ]
  },
  {
   "cell_type": "markdown",
   "metadata": {
    "collapsed": true
   },
   "source": [
    "## Git and github\n",
    "### Login to push a code"
   ]
  },
  {
   "cell_type": "markdown",
   "metadata": {},
   "source": [
    "**There are two ways to push into a project.**<br>\n",
    "1. Input every time your account and password\n",
    "2. Use ssh keys, so you would have to input your account and password only once "
   ]
  },
  {
   "cell_type": "markdown",
   "metadata": {},
   "source": [
    "**Using ssh keys to login in a github repository**"
   ]
  },
  {
   "cell_type": "markdown",
   "metadata": {},
   "source": [
    "In the terminal, write the following line of code:"
   ]
  },
  {
   "cell_type": "code",
   "execution_count": null,
   "metadata": {
    "collapsed": true
   },
   "outputs": [],
   "source": [
    "ssh-keygen -t rsa -b 4096 -C \"your_email@example.com\""
   ]
  },
  {
   "cell_type": "markdown",
   "metadata": {},
   "source": [
    "It will generate a key (secure shell) and will give you the path where you can find it<br>\n",
    "You may have to enter a passphrase<br>\n",
    "After that, you will have to start ssh-agent in the background through the following code (for mac):"
   ]
  },
  {
   "cell_type": "code",
   "execution_count": null,
   "metadata": {
    "collapsed": true
   },
   "outputs": [],
   "source": [
    "eval \"$(ssh-agent -s)\""
   ]
  },
  {
   "cell_type": "markdown",
   "metadata": {},
   "source": [
    "Add the SSH-key to your SSH-agent:"
   ]
  },
  {
   "cell_type": "code",
   "execution_count": null,
   "metadata": {
    "collapsed": true
   },
   "outputs": [],
   "source": [
    "ssh-add -K ~/.ssh/id_rsa"
   ]
  },
  {
   "cell_type": "markdown",
   "metadata": {},
   "source": [
    "Copy your key and paste it in your github SSH settings"
   ]
  },
  {
   "cell_type": "code",
   "execution_count": null,
   "metadata": {
    "collapsed": true
   },
   "outputs": [],
   "source": [
    "pbcopy < ~/.ssh/id_rsa.pub"
   ]
  },
  {
   "cell_type": "markdown",
   "metadata": {},
   "source": [
    "### Fork"
   ]
  },
  {
   "cell_type": "markdown",
   "metadata": {},
   "source": [
    "Used to make a copy in your own repository or any repository that you contributes<br>\n",
    "**PyCharm:** Set SSH as Native be able to clone github repositories<br>\n",
    "**Pull request** (github): When your fork a repository and want to contribute with an open source project, you can do a pull request, that will show improvements that you have done so developers could aprove or not your pull<br>\n",
    "**Issues** (github): In that sessions, users can post improvements that would be nice to have or any problem with the code.\n",
    "**Closing issues:** When a improvement is done, in the commit you can add 'close #3' where it would close issue number 3. The same has to be done in the pull request, saying that you will close the issue number #3<br>\n",
    "**Pull request denied:** When you Pull Request (PR) is denied, to come back to the earlier commit, you can run the following code<br>"
   ]
  },
  {
   "cell_type": "code",
   "execution_count": null,
   "metadata": {
    "collapsed": true
   },
   "outputs": [],
   "source": [
    "git reset --hard HEAD^1"
   ]
  },
  {
   "cell_type": "markdown",
   "metadata": {},
   "source": [
    "This is one way to deal with denied pull request, but it can be messy, since you will have to commit with the force command, once you have changed the history of your git<br>\n",
    "Better than going back with your code, you are able to do a **feature branch.**<br>\n",
    "**Feature Branch:** You can move forward with your code, even if it wasn't accept in a PR<br>\n",
    "**Local/Remote branches:** There are two types of branches, remote and local. Remote branches are the ones that you have in a github or other repository other than in your machine. The opposite happens with local branches, where they are stored in your machine locally.<br>\n",
    "**Origin/Master:** This terms are used to name your repository in wich you have clone or are working with. The repository that was cloned, is your origin (a nickname to the full path of your repository, that could be in github).'Master' would be a nickname to the main branch (local or remote).<br>\n",
    "**Upstream:** Usually, when your origin is a fork from other repository, you can add this repository as an upstream and not as origin. That would add an other option to you push you codes. Below we have the code to do that:"
   ]
  },
  {
   "cell_type": "code",
   "execution_count": null,
   "metadata": {
    "collapsed": true
   },
   "outputs": [],
   "source": [
    "git add upstream url_to_the_forked_repository"
   ]
  },
  {
   "cell_type": "markdown",
   "metadata": {},
   "source": [
    "**Creating a Branch:** To work on many developments, it is a best practice to work different branches, so you can split and organize better your code<br>\n",
    "**Switch to other branch:** If you will no longer work in a branch and you would like to start working in an other one, on PyCharm you can do a ***checkout*** to the desired branch and start working on that.<br>\n",
    "**Fetch:** After any change, if you would like to refresh and update your local master with the updates from origin master, yo will have to run 'git fetch xxxx' where xxxx would be the nickname (origin/upstream, etc) or the full path to the repository<br>\n",
    "**Dealing with conflit:** Working with many developers, we can face with the situation where two developers change the same line of code. One of them pushes before the other and this other developer, when tries to push but can't do it, once the origin/master conde has already changed. In that situation, git shows us where there is a conflict and ask to resolution. The IDE PyCharm has a feature where you can compare and resolve code's conficts, seeing what are the differences and editing what is necessary. After that, the push request can be done. Once accepted, the developer would fetch and delete his branch, once it was already merged in the origin/master."
   ]
  },
  {
   "cell_type": "markdown",
   "metadata": {
    "collapsed": true
   },
   "source": [
    "### .gitignore"
   ]
  },
  {
   "cell_type": "markdown",
   "metadata": {},
   "source": [
    "**The idea of this file in git is to avoid versioning file that shouldn't be.**<br>\n",
    "Files like .logs or containing sensitive information.<br>\n",
    "IDEs like PyCharm creates files '.idea', which contains users configuration of it and shouldn't be pushed to your repository, since every user has it owns and it would couse conflits.<br>\n",
    "**To create a global '.gitignore', we would do the following:**"
   ]
  },
  {
   "cell_type": "markdown",
   "metadata": {},
   "source": [
    "    1.Create a .gitignore_global file in home path\n",
    "    2.Add it in git settings as your gitignore file"
   ]
  },
  {
   "cell_type": "code",
   "execution_count": null,
   "metadata": {
    "collapsed": true
   },
   "outputs": [],
   "source": [
    "# 1.\n",
    "cd\n",
    "touch .gitignore_global\n",
    "vim .gitignore_global\n",
    "#paste the following content\n",
    "\"\"\"\n",
    "#Pycharm files\n",
    ".idea/\n",
    ".classpath\n",
    ".project\n",
    ".settings/\n",
    "bin/\n",
    "*.sqlite3\n",
    "\"\"\"\n",
    "# 2.\n",
    "# setting as your global .gitignore file\n",
    "git config --global core.excludesfile ~/.gitignore_global"
   ]
  },
  {
   "cell_type": "markdown",
   "metadata": {},
   "source": [
    "## Isolating Enviroments\n",
    "### Pyenv for Ubuntu"
   ]
  },
  {
   "cell_type": "markdown",
   "metadata": {},
   "source": [
    "The main reason to install the pyenv is that if you modify anithing that brokes your system's python, we would have to reboot your OS.\n",
    "First of all, you have to install a several packeges, running the following code in the terminal:"
   ]
  },
  {
   "cell_type": "code",
   "execution_count": null,
   "metadata": {
    "collapsed": true
   },
   "outputs": [],
   "source": [
    "sudo apt-get install -y build-essential libssl-dev zlib1g-dev libbz2-dev libreadline-dev libsqlite3-dev wget curl llvm gettext libncurses5-dev tk-dev tcl-dev blt-dev libgdbm-dev git python-dev python3-dev aria2 vim"
   ]
  },
  {
   "cell_type": "markdown",
   "metadata": {},
   "source": [
    "Clone from pyenv repository to your computer (better in home directory):"
   ]
  },
  {
   "cell_type": "code",
   "execution_count": null,
   "metadata": {
    "collapsed": true
   },
   "outputs": [],
   "source": [
    "git clone https://github.com/pyenv/pyenv.git ~/.pyenv"
   ]
  },
  {
   "cell_type": "code",
   "execution_count": null,
   "metadata": {
    "collapsed": true
   },
   "outputs": [],
   "source": [
    "echo 'export PYENV_ROOT=\"$HOME/.pyenv\"' >> ~/.bashrc\n",
    "echo 'export PATH=\"$PYENV_ROOT/bin:$PATH\"' >> ~/.bashrc\n",
    "echo -e 'if command -v pyenv 1>/dev/null 2>&1; then\\n  eval \"$(pyenv init -)\"\\nfi' >> ~/.bashrc\n",
    "exec \"$SHELL\"\n",
    "pyenv install 3.6.5"
   ]
  },
  {
   "cell_type": "markdown",
   "metadata": {},
   "source": [
    "Running this code, you are going to have both system's python and pyenv's python installed<br>\n",
    "To see all python versions that can be installed through pyenv, just run the following code:"
   ]
  },
  {
   "cell_type": "code",
   "execution_count": null,
   "metadata": {
    "collapsed": true
   },
   "outputs": [],
   "source": [
    "pyenv install -l"
   ]
  },
  {
   "cell_type": "markdown",
   "metadata": {},
   "source": [
    "An other important version to be installed is the latest 2.7 versions. In that case, when was run, it was 2.7.15<br>\n",
    "So, we would run the following code:"
   ]
  },
  {
   "cell_type": "code",
   "execution_count": null,
   "metadata": {
    "collapsed": true
   },
   "outputs": [],
   "source": [
    "pyenv install 2.7.15"
   ]
  },
  {
   "cell_type": "markdown",
   "metadata": {},
   "source": [
    "After that, we will have to set this two versions of python as global in our machine<br>\n",
    "To do that, you should run:"
   ]
  },
  {
   "cell_type": "code",
   "execution_count": null,
   "metadata": {
    "collapsed": true
   },
   "outputs": [],
   "source": [
    "pyenv global 3.6.5 2.7.15"
   ]
  },
  {
   "cell_type": "markdown",
   "metadata": {},
   "source": [
    "It will set your pyenv 3.6.5 as the principal and after 2.7.15 as your second version to be used<br>\n",
    "When you run 'python' or 'python3', now you are going to run 3.6.5 pyenv's version<br>\n",
    "When you run 'python2', you are going to run 2.7.15 pyenv's version"
   ]
  },
  {
   "cell_type": "markdown",
   "metadata": {},
   "source": [
    "### Pyenv in Mac"
   ]
  },
  {
   "cell_type": "markdown",
   "metadata": {},
   "source": [
    "As the same we have done to install python in Mac, we are going to install pyenv, with the follwing code in terminal:"
   ]
  },
  {
   "cell_type": "code",
   "execution_count": null,
   "metadata": {
    "collapsed": true
   },
   "outputs": [],
   "source": [
    "brew install pyenv"
   ]
  },
  {
   "cell_type": "markdown",
   "metadata": {},
   "source": [
    "Use the following code to check which versions can be installed:"
   ]
  },
  {
   "cell_type": "code",
   "execution_count": null,
   "metadata": {
    "collapsed": true
   },
   "outputs": [],
   "source": [
    "pyenv install -l"
   ]
  },
  {
   "cell_type": "markdown",
   "metadata": {},
   "source": [
    "Install the latest 2.x and 3.x versions<br>\n",
    "After that, you should edit your .bash_profile and add the following code at the end of the file"
   ]
  },
  {
   "cell_type": "code",
   "execution_count": null,
   "metadata": {
    "collapsed": true
   },
   "outputs": [],
   "source": [
    "export PYENV_ROOT=~/.pyenv\n",
    "\n",
    "PATH=\"${PYENV_ROOT}/shims:${PYENV_ROOT}/bin/:${PATH}\""
   ]
  },
  {
   "cell_type": "markdown",
   "metadata": {},
   "source": [
    "## Virtualenv\n",
    "### Mac or Ubuntu"
   ]
  },
  {
   "cell_type": "markdown",
   "metadata": {},
   "source": [
    "Virtualenv is an other layer to isolate your project<br>\n",
    "Some times you will have to work with different python verions and to turn it easier, with virtualenv we can create isolated folder containing different versions<br>\n",
    "In python3, when you install pyenv, you already have it installed, but for python2 not"
   ]
  },
  {
   "cell_type": "markdown",
   "metadata": {},
   "source": [
    "#### Creating a virtualenv - Python 3"
   ]
  },
  {
   "cell_type": "markdown",
   "metadata": {},
   "source": [
    "Simply run the following code inside a desired folder:"
   ]
  },
  {
   "cell_type": "code",
   "execution_count": null,
   "metadata": {
    "collapsed": true
   },
   "outputs": [],
   "source": [
    "python3 -m venv .venv"
   ]
  },
  {
   "cell_type": "markdown",
   "metadata": {},
   "source": [
    "To activate it:"
   ]
  },
  {
   "cell_type": "code",
   "execution_count": null,
   "metadata": {
    "collapsed": true
   },
   "outputs": [],
   "source": [
    "source .venv/bin/activate"
   ]
  },
  {
   "cell_type": "markdown",
   "metadata": {},
   "source": [
    "To deactivate it:"
   ]
  },
  {
   "cell_type": "code",
   "execution_count": null,
   "metadata": {
    "collapsed": true
   },
   "outputs": [],
   "source": [
    "deactivate"
   ]
  },
  {
   "cell_type": "markdown",
   "metadata": {},
   "source": [
    "#### Creating a virtualenv - Python 2"
   ]
  },
  {
   "cell_type": "markdown",
   "metadata": {},
   "source": [
    "As for python2 the virtualenv is not installed, we will have to install it with pip:"
   ]
  },
  {
   "cell_type": "code",
   "execution_count": null,
   "metadata": {
    "collapsed": true
   },
   "outputs": [],
   "source": [
    "python2 -m pip install virtualenv"
   ]
  },
  {
   "cell_type": "markdown",
   "metadata": {},
   "source": [
    "Note that for python2, we call it as 'virtualenv' and not 'venv' as in python3<br>\n",
    "after that, you will be able to create your virtualenv:"
   ]
  },
  {
   "cell_type": "code",
   "execution_count": null,
   "metadata": {
    "collapsed": true
   },
   "outputs": [],
   "source": [
    "python2 -m virtualenv .virtualenv"
   ]
  },
  {
   "cell_type": "markdown",
   "metadata": {},
   "source": [
    "To activate it:"
   ]
  },
  {
   "cell_type": "code",
   "execution_count": null,
   "metadata": {
    "collapsed": true
   },
   "outputs": [],
   "source": [
    "python2 source .virtualenv/bin/activate"
   ]
  },
  {
   "cell_type": "markdown",
   "metadata": {},
   "source": [
    "To deactivate it:"
   ]
  },
  {
   "cell_type": "code",
   "execution_count": null,
   "metadata": {
    "collapsed": true
   },
   "outputs": [],
   "source": [
    "deactivate"
   ]
  },
  {
   "cell_type": "markdown",
   "metadata": {
    "collapsed": true
   },
   "source": [
    "#### Pycharm Venv\n",
    "In Pycharm, you can create the virtualenv as showed above and after that you will have to go to preferences and point your interpreter to the folder of yours virtualenv<br>\n",
    "Usually, we create the virtual env inside project's folder, named as '.venv'<br>\n",
    "As we are using github, it already has .gitignore selecting .venv as one of the folders that shouldn't be pushed<br>"
   ]
  },
  {
   "cell_type": "markdown",
   "metadata": {},
   "source": [
    "## Dependencies management\n",
    "### pip"
   ]
  },
  {
   "cell_type": "markdown",
   "metadata": {},
   "source": [
    "It is a best practice to install libs inside your virtualenv, so you won't have conflicts with differents versions between projects"
   ]
  },
  {
   "cell_type": "markdown",
   "metadata": {},
   "source": [
    "### Requirements"
   ]
  },
  {
   "cell_type": "markdown",
   "metadata": {},
   "source": [
    "When you share your project, other users will pull it and use it.<br>\n",
    "To make it happen, this user would have to install all libs that are dependencies of your project<br>\n",
    "To name every lib that will be needed, usually is created a file called 'requirement.txt', where we can find all libs listed and their respective versions to be installed locally by any user that would like to work on it.<br>\n",
    "Said that, to create this file, you would have to run the following code:"
   ]
  },
  {
   "cell_type": "code",
   "execution_count": null,
   "metadata": {},
   "outputs": [],
   "source": [
    "pip freeze > requirements.txt"
   ]
  },
  {
   "cell_type": "markdown",
   "metadata": {},
   "source": [
    "Doing that, any user could install exactly all libs/versions that you used in this project<br>\n",
    "To install all libs using 'requirements.txt' file, you would have to run in your virtual env the following code:<br>"
   ]
  },
  {
   "cell_type": "code",
   "execution_count": null,
   "metadata": {},
   "outputs": [],
   "source": [
    "pip install -r requirements.txt"
   ]
  },
  {
   "cell_type": "markdown",
   "metadata": {},
   "source": [
    "### Flake8"
   ]
  },
  {
   "cell_type": "markdown",
   "metadata": {},
   "source": [
    "Flake8 is a lib that check if your code follows the PEP8<br>\n",
    "Running it, it will list all divergences<br>\n",
    "To install it, just run the following code:<br>"
   ]
  },
  {
   "cell_type": "code",
   "execution_count": null,
   "metadata": {},
   "outputs": [],
   "source": [
    "pip install flake8"
   ]
  },
  {
   "cell_type": "markdown",
   "metadata": {},
   "source": [
    "At a first run, flake8 will check all files inside your project, including libs that you have installed<br>\n",
    "To avoid it to check code that you don't have responsability, you will have to create a file named '.flake8' with these custom configurations.<br>\n",
    "**[FLAKE FILE]**"
   ]
  },
  {
   "cell_type": "markdown",
   "metadata": {},
   "source": [
    "[flake8]\n",
    "max-line-legnth = 120\n",
    "exclude=.venv "
   ]
  },
  {
   "cell_type": "markdown",
   "metadata": {},
   "source": [
    "After that, if you run in the terminal (in your virtual env) the code below, you would check only your code"
   ]
  },
  {
   "cell_type": "code",
   "execution_count": null,
   "metadata": {},
   "outputs": [],
   "source": [
    "flake8"
   ]
  },
  {
   "cell_type": "markdown",
   "metadata": {},
   "source": [
    "### Travis-ci"
   ]
  },
  {
   "cell_type": "markdown",
   "metadata": {},
   "source": [
    "Travis is a realtime sync that checks your code in github<br>\n",
    "It also able you to add a tag that certifies your code, showed in your readme's<br>\n",
    "To add it, just connect your github account in https://travis-ci.org<br>\n",
    "There you will have to click in your status image repository, to copy the 'Markdown'<br>\n",
    "Include the 'Markdown' in your readme, with the following code:"
   ]
  },
  {
   "cell_type": "code",
   "execution_count": null,
   "metadata": {},
   "outputs": [],
   "source": [
    "[![Build Status](https://travis-ci.org/paulobueno/libpythonpro.svg?branch=master)](https://travis-ci.org/paulobueno/libpythonpro)"
   ]
  },
  {
   "cell_type": "markdown",
   "metadata": {},
   "source": [
    "After that, you will have to create a \".travis.yml\" file, with config setup:"
   ]
  },
  {
   "cell_type": "code",
   "execution_count": null,
   "metadata": {},
   "outputs": [],
   "source": [
    "language: python\n",
    "python:\n",
    "  - 3.6\n",
    "  - 2.7\n",
    "install:\n",
    "  - pip install -r requiriments-dev.txt\n",
    "script:\n",
    "  - flake8"
   ]
  },
  {
   "cell_type": "markdown",
   "metadata": {},
   "source": [
    "To avoid show installation process visualization, you can do the following:"
   ]
  },
  {
   "cell_type": "code",
   "execution_count": null,
   "metadata": {},
   "outputs": [],
   "source": [
    "language: python\n",
    "python:\n",
    "  - 3.6\n",
    "  - 2.7\n",
    "install:\n",
    "  - pip install -q -r requiriments-dev.txt\n",
    "script:\n",
    "  - flake8"
   ]
  },
  {
   "cell_type": "markdown",
   "metadata": {},
   "source": [
    "### Updateing dependencies\n",
    "To check if your requirements is uptodate, you can use PYUP, saas that help you to check automatically if there is any upate to me made in your dependencies<br>\n",
    "https://pyup.io/"
   ]
  },
  {
   "cell_type": "markdown",
   "metadata": {},
   "source": [
    "After adding your repository, you can add markdowns to your readme file on github<br>\n",
    "PYUP will add pull requests (PRs) to your repository, so you could update it<br>"
   ]
  },
  {
   "cell_type": "markdown",
   "metadata": {},
   "source": [
    "## Pytest\n",
    "#### Learning how to automate tests"
   ]
  },
  {
   "cell_type": "markdown",
   "metadata": {},
   "source": [
    "First of all, you will have to install pytest lib in your virtual env<br>\n",
    "After doing it, you must add all installed libs to requirements-dev.txt as part of development kit<br>\n",
    "<br>\n",
    "To be able to use pytest in pycharm, you will have to add it as test runner, in preferences<br>\n",
    "Pytest is able to run unittest aswell, you won't have to rewrite every code again to run them<br>\n",
    "<br>\n",
    "As in unittest lib, pytest will seek for 'test' prefix folders and functions to run tests<br>\n",
    "The framework is expecting the following to be run<br>"
   ]
  },
  {
   "cell_type": "code",
   "execution_count": 2,
   "metadata": {},
   "outputs": [],
   "source": [
    "def test_int():\n",
    "    assert 1 == 0"
   ]
  },
  {
   "cell_type": "markdown",
   "metadata": {},
   "source": [
    "Running this code, pytest will show every test that failed<br>\n",
    "Using pycharm IDE, it is much easier to run and fix test errors<br>\n",
    "Inside your project folder, create a Python Package folder named as 'tests'<br>\n",
    "Inside 'tests' folder, create a python file named 'test_\\*'<br>\n",
    "Any function inside test folder should start with 'test_' aswell, as we can see in the code above<br> \n",
    "<br>\n",
    "To include pytest in Travis, you will have to add in its .yml file, in scripts ' - pytest'<br>"
   ]
  },
  {
   "cell_type": "code",
   "execution_count": null,
   "metadata": {},
   "outputs": [],
   "source": []
  }
 ],
 "metadata": {
  "kernelspec": {
   "display_name": "Python 3",
   "language": "python",
   "name": "python3"
  },
  "language_info": {
   "codemirror_mode": {
    "name": "ipython",
    "version": 3
   },
   "file_extension": ".py",
   "mimetype": "text/x-python",
   "name": "python",
   "nbconvert_exporter": "python",
   "pygments_lexer": "ipython3",
   "version": "3.6.5"
  }
 },
 "nbformat": 4,
 "nbformat_minor": 2
}
